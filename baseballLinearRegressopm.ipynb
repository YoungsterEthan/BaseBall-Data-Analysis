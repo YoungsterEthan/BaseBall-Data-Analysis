{
  "nbformat": 4,
  "nbformat_minor": 0,
  "metadata": {
    "colab": {
      "name": "Untitled0.ipynb",
      "provenance": [],
      "authorship_tag": "ABX9TyPA+xklZvv1jVuPhRGnWBsw",
      "include_colab_link": true
    },
    "kernelspec": {
      "name": "python3",
      "display_name": "Python 3"
    },
    "language_info": {
      "name": "python"
    }
  },
  "cells": [
    {
      "cell_type": "markdown",
      "metadata": {
        "id": "view-in-github",
        "colab_type": "text"
      },
      "source": [
        "<a href=\"https://colab.research.google.com/github/YoungsterEthan/BaseBall-Data-Analysis/blob/master/baseballLinearRegressopm.ipynb\" target=\"_parent\"><img src=\"https://colab.research.google.com/assets/colab-badge.svg\" alt=\"Open In Colab\"/></a>"
      ]
    },
    {
      "cell_type": "code",
      "execution_count": 3,
      "metadata": {
        "id": "ARcSCHzi8ONQ"
      },
      "outputs": [],
      "source": [
        "import pandas as pd\n",
        "from sklearn import datasets, linear_model\n",
        "from sklearn.model_selection import train_test_split\n",
        "from matplotlib import pyplot as plt\n"
      ]
    },
    {
      "cell_type": "code",
      "source": [
        "battingData = pd.read_csv('/content/sample_data/batting.csv')\n",
        "battingData.set_index('Tm', inplace=True)\n",
        "y = battingData.W"
      ],
      "metadata": {
        "id": "gGjTK_cg8huc"
      },
      "execution_count": 7,
      "outputs": []
    },
    {
      "cell_type": "code",
      "source": [
        "print(battingData)"
      ],
      "metadata": {
        "colab": {
          "base_uri": "https://localhost:8080/"
        },
        "id": "bnZCrGlx8j3p",
        "outputId": "e22be32f-c433-4d4c-cd81-0ec9d6763683"
      },
      "execution_count": 8,
      "outputs": [
        {
          "output_type": "stream",
          "name": "stdout",
          "text": [
            "                       #Bat  BatAge   R/G   G    PA    AB    R    H   2B  3B  \\\n",
            "Tm                                                                             \n",
            "Arizona Diamondbacks     45    27.1  4.03  62  2292  2022  250  439   94  10   \n",
            "Atlanta Braves           38    28.1  4.61  61  2279  2058  281  503  121   5   \n",
            "Baltimore Orioles        46    27.7  4.03  61  2304  2069  246  479   98   9   \n",
            "Boston Red Sox           36    28.9  4.66  61  2335  2111  284  537  148   5   \n",
            "Chicago Cubs             45    28.6  4.29  59  2252  1997  253  484  101  12   \n",
            "Chicago White Sox        37    29.3  3.91  58  2179  1989  227  481   93   3   \n",
            "Cincinnati Reds          48    30.0  4.38  60  2191  1957  263  467   95   5   \n",
            "Cleveland Guardians      36    26.1  4.64  56  2104  1898  260  473  101  13   \n",
            "Colorado Rockies         33    29.5  4.49  61  2326  2099  274  539   97  10   \n",
            "Detroit Tigers           40    28.8  2.75  59  2071  1900  162  415   79   9   \n",
            "Houston Astros           34    29.8  4.13  60  2241  1990  248  475   99   7   \n",
            "Kansas City Royals       41    28.4  3.88  59  2206  2002  229  480   96  15   \n",
            "Los Angeles Angels       45    28.4  4.39  62  2304  2072  272  505   95   8   \n",
            "Los Angeles Dodgers      40    29.7  5.15  60  2299  2033  309  506  117  10   \n",
            "Miami Marlins            39    29.4  4.52  58  2189  1958  262  477   87  10   \n",
            "Milwaukee Brewers        40    29.6  4.31  62  2307  2062  267  477   86   9   \n",
            "Minnesota Twins          47    27.0  4.48  62  2327  2067  278  522  105   4   \n",
            "New York Mets            39    29.9  5.10  62  2381  2111  316  559   97  14   \n",
            "New York Yankees         36    30.5  5.12  60  2277  2004  307  501   83   3   \n",
            "Oakland Athletics        45    28.8  3.32  62  2226  2020  206  428  101   7   \n",
            "Philadelphia Phillies    36    28.7  4.82  60  2267  2035  289  509  100  10   \n",
            "Pittsburgh Pirates       45    26.8  3.43  58  2097  1889  199  423   77  10   \n",
            "San Diego Padres         40    28.7  4.39  61  2325  2053  268  481  100  10   \n",
            "Seattle Mariners         43    26.8  4.10  60  2294  2017  246  480   90   8   \n",
            "San Francisco Giants     48    30.3  4.95  59  2249  1983  292  477   95   6   \n",
            "St. Louis Cardinals      40    29.1  4.72  61  2324  2084  288  522  100   7   \n",
            "Tampa Bay Rays           43    27.1  4.25  60  2203  1998  255  465   95  10   \n",
            "Texas Rangers            40    29.1  4.36  59  2202  2011  257  471   74   5   \n",
            "Toronto Blue Jays        39    27.0  4.46  59  2219  1982  263  501  112   3   \n",
            "Washington Nationals     39    29.5  4.15  62  2329  2095  257  539  102   6   \n",
            "\n",
            "                       ...    OPS  OPS+   TB  GDP  HBP  SH  SF  IBB  LOB   W  \n",
            "Tm                     ...                                                    \n",
            "Arizona Diamondbacks   ...  0.681    94  769   33   23   9  13    8  406  29  \n",
            "Atlanta Braves         ...  0.741   103  886   35   24   0  16    5  392  34  \n",
            "Baltimore Orioles      ...  0.678    94  778   45   35   5  14    5  427  26  \n",
            "Boston Red Sox         ...  0.726   101  869   39   25   5  24    8  423  32  \n",
            "Chicago Cubs           ...  0.714   100  786   49   26   5  14    9  423  23  \n",
            "Chicago White Sox      ...  0.664    89  727   40   27   7  15    5  397  27  \n",
            "Cincinnati Reds        ...  0.689    84  743   50   28   4  18    1  346  21  \n",
            "Cleveland Guardians    ...  0.701   101  738   35   15   5  18    7  366  29  \n",
            "Colorado Rockies       ...  0.709    91  815   50   24   6  16    2  437  27  \n",
            "Detroit Tigers         ...  0.593    74  602   46   19   4  11    2  354  24  \n",
            "Houston Astros         ...  0.728   109  819   36   21   4  14    5  416  37  \n",
            "Kansas City Royals     ...  0.675    92  744   40   15   3  13    3  411  20  \n",
            "Los Angeles Angels     ...  0.724   107  850   41   20  10   7    9  398  29  \n",
            "Los Angeles Dodgers    ...  0.751   109  856   38   12   0  13    9  411  37  \n",
            "Miami Marlins          ...  0.711   101  776   38   29   0  17    3  396  27  \n",
            "Milwaukee Brewers      ...  0.704    98  821   42   28   1  16    3  401  34  \n",
            "Minnesota Twins        ...  0.739   115  854   47   23   6  18    2  426  35  \n",
            "New York Mets          ...  0.743   113  861   44   41   9  24    7  436  40  \n",
            "New York Yankees       ...  0.769   121  884   44   21   4  23   14  402  44  \n",
            "Oakland Athletics      ...  0.611    80  675   48   22   7  13    4  359  21  \n",
            "Philadelphia Phillies  ...  0.741   111  863   52   21   4  19    7  391  30  \n",
            "Pittsburgh Pirates     ...  0.650    85  673   39   13   4  13    3  365  24  \n",
            "San Diego Padres       ...  0.672    96  742   37   24   9  22   12  431  37  \n",
            "Seattle Mariners       ...  0.708   107  778   40   36   3  15    5  450  27  \n",
            "San Francisco Giants   ...  0.724   104  800   40   29   0  23    4  396  33  \n",
            "St. Louis Cardinals    ...  0.709   105  813   42   24   1  18    4  423  34  \n",
            "Tampa Bay Rays         ...  0.674   100  754   34   16   3  14    6  366  35  \n",
            "Texas Rangers          ...  0.683    97  783   23   14   3  13    5  371  28  \n",
            "Toronto Blue Jays      ...  0.746   112  838   44   26   4  16    7  409  35  \n",
            "Washington Nationals   ...  0.704   105  800   56   19  10  14    3  427  23  \n",
            "\n",
            "[30 rows x 29 columns]\n"
          ]
        }
      ]
    },
    {
      "cell_type": "code",
      "source": [
        "# create training and testing vars\n",
        "X_train, X_test, y_train, y_test = train_test_split(battingData, y, test_size=0.3)\n",
        "print(X_train.shape, y_train.shape)\n",
        "print(X_test.shape, y_test.shape)"
      ],
      "metadata": {
        "colab": {
          "base_uri": "https://localhost:8080/"
        },
        "id": "1qzPXvZS9UQt",
        "outputId": "8aeec652-4759-4c56-f85f-428145049810"
      },
      "execution_count": 14,
      "outputs": [
        {
          "output_type": "stream",
          "name": "stdout",
          "text": [
            "(21, 29) (21,)\n",
            "(9, 29) (9,)\n"
          ]
        }
      ]
    },
    {
      "cell_type": "code",
      "source": [
        "# fit a model\n",
        "lm = linear_model.LinearRegression()\n",
        "\n",
        "model = lm.fit(X_train, y_train)\n",
        "predictions = lm.predict(X_test)\n",
        "print(predictions)"
      ],
      "metadata": {
        "colab": {
          "base_uri": "https://localhost:8080/"
        },
        "id": "hkcJdFWQ9Wgj",
        "outputId": "fca30358-3396-4ca4-df9b-0bb9e6025506"
      },
      "execution_count": 15,
      "outputs": [
        {
          "output_type": "stream",
          "name": "stdout",
          "text": [
            "[35.06824758 34.4152123  34.56789736 34.45368555 22.93727805 32.58952378\n",
            " 23.08595077 27.53065076 27.96119745]\n"
          ]
        }
      ]
    },
    {
      "cell_type": "code",
      "source": [
        "## The line / model\n",
        "plt.scatter(y_test, predictions)\n",
        "plt.xlabel(\"True Values\")\n",
        "plt.ylabel(\"Predictions\")\n",
        "plt.show()\n",
        "print(\"Score:\", model.score(X_test, y_test))"
      ],
      "metadata": {
        "colab": {
          "base_uri": "https://localhost:8080/",
          "height": 297
        },
        "id": "iY96XNEY9tR_",
        "outputId": "2f28c4c6-4270-47f5-a987-233f5c103a9b"
      },
      "execution_count": 16,
      "outputs": [
        {
          "output_type": "display_data",
          "data": {
            "text/plain": [
              "<Figure size 432x288 with 1 Axes>"
            ],
            "image/png": "[encoded data removed]"
          },
          "metadata": {
            "needs_background": "light"
          }
        },
        {
          "output_type": "stream",
          "name": "stdout",
          "text": [
            "Score: 0.9666639564671127\n"
          ]
        }
      ]
    }
  ]
}